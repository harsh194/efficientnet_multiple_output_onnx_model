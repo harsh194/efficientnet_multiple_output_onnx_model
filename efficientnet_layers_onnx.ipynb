{
 "cells": [
  {
   "cell_type": "code",
   "execution_count": 68,
   "id": "bef538a0",
   "metadata": {},
   "outputs": [],
   "source": [
    "import torch\n",
    "from torchvision import models\n",
    "import torch.nn as nn\n",
    "import torch.nn.functional as F\n",
    "from collections import OrderedDict\n",
    "\n",
    "class modified_efficient(nn.Module):\n",
    "    def __init__(self, model):\n",
    "        super(modified_efficient, self).__init__()\n",
    "        self.use_cuda = torch.cuda.is_available()\n",
    "        self.device = torch.device(\"cuda\" if self.use_cuda else \"cpu\")\n",
    "        if self.use_cuda:\n",
    "            torch.cuda.manual_seed_all(1024)\n",
    "        self.model = model\n",
    "        self.model.to(self.device)\n",
    "\n",
    "        random.seed(1024)\n",
    "        torch.manual_seed(1024)\n",
    "\n",
    "    def forward(self, x):\n",
    "        outputs = []\n",
    "\n",
    "        def hook(module, input, output):\n",
    "            outputs.append(output)\n",
    "\n",
    "        self.model.features[0][1].register_forward_hook(hook)\n",
    "        self.model.features[1][0].register_forward_hook(hook)\n",
    "        self.model.features[2][1].register_forward_hook(hook)\n",
    "        self.model.features[3][1].register_forward_hook(hook)\n",
    "        self.model.features[4][2].register_forward_hook(hook)\n",
    "        self.model.features[5][2].register_forward_hook(hook)\n",
    "        self.model.features[6][3].register_forward_hook(hook)\n",
    "        self.model.features[7][0].register_forward_hook(hook)\n",
    "        self.model.features[8][1].register_forward_hook(hook)\n",
    "\n",
    "        with torch.no_grad():\n",
    "            eff_result = self.model(x.to(self.device))\n",
    "\n",
    "        embedding_vectors_1 = outputs[0].cpu().detach()\n",
    "        embedding_vectors_2 = outputs[1].cpu().detach()\n",
    "        embedding_vectors_3 = outputs[2].cpu().detach()\n",
    "        embedding_vectors_4 = outputs[3].cpu().detach()\n",
    "        embedding_vectors_5 = outputs[4].cpu().detach()\n",
    "        embedding_vectors_6 = outputs[5].cpu().detach()\n",
    "        embedding_vectors_7 = outputs[6].cpu().detach()\n",
    "        embedding_vectors_8 = outputs[7].cpu().detach()\n",
    "        embedding_vectors_9 = outputs[8].cpu().detach()\n",
    "\n",
    "        return eff_result, embedding_vectors_1, embedding_vectors_2, embedding_vectors_3,embedding_vectors_4,embedding_vectors_5,embedding_vectors_6,embedding_vectors_7,embedding_vectors_8,embedding_vectors_9\n",
    "\n",
    "\n",
    "model = models.efficientnet_b0(pretrained=True)\n",
    "x = torch.randn(1, 3, 224, 224)\n",
    "net = modified_efficient(model)\n",
    "eff_result, embedding_vectors_1, embedding_vectors_2, embedding_vectors_3,embedding_vectors_4,embedding_vectors_5,embedding_vectors_6,embedding_vectors_7,embedding_vectors_8,embedding_vectors_9 = net(x)\n"
   ]
  },
  {
   "cell_type": "code",
   "execution_count": 69,
   "id": "c107f236",
   "metadata": {},
   "outputs": [
    {
     "name": "stdout",
     "output_type": "stream",
     "text": [
      "============== Diagnostic Run torch.onnx.export version 2.0.1+cpu ==============\n",
      "verbose: False, log level: Level.ERROR\n",
      "======================= 0 NONE 0 NOTE 0 WARNING 0 ERROR ========================\n",
      "\n"
     ]
    }
   ],
   "source": [
    "# Export the model\n",
    "torch.onnx.export(net,               \n",
    "                  x,                   \n",
    "                  \"efficientnet.onnx\",\n",
    "                  export_params=True,  \n",
    "                  opset_version=18,    \n",
    "                  do_constant_folding=True,  \n",
    "                  input_names=['input'],   \n",
    "                  output_names=[\"output\",'output_1', 'output_2', 'output_3','output_4', 'output_5', 'output_6','output_7', 'output_8', 'output_9'],  \n",
    "                 )"
   ]
  },
  {
   "cell_type": "code",
   "execution_count": null,
   "id": "317c1067",
   "metadata": {},
   "outputs": [],
   "source": []
  }
 ],
 "metadata": {
  "kernelspec": {
   "display_name": "Python 3 (ipykernel)",
   "language": "python",
   "name": "python3"
  },
  "language_info": {
   "codemirror_mode": {
    "name": "ipython",
    "version": 3
   },
   "file_extension": ".py",
   "mimetype": "text/x-python",
   "name": "python",
   "nbconvert_exporter": "python",
   "pygments_lexer": "ipython3",
   "version": "3.10.9"
  }
 },
 "nbformat": 4,
 "nbformat_minor": 5
}
